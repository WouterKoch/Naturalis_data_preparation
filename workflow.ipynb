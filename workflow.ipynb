{
 "cells": [
  {
   "cell_type": "markdown",
   "metadata": {},
   "source": [
    "# Data preparation for AI training by Naturalis\n",
    "This notebook executes all steps required to train a species recognition model based on various data sources, predominantly Artsobservasjoner."
   ]
  },
  {
   "cell_type": "code",
   "execution_count": null,
   "metadata": {},
   "outputs": [],
   "source": [
    "from process_AO import process_AO\n",
    "import os\n",
    "\n",
    "process_AO(os.path.join(\"./Input\", \"Artsobservasjoner.csv\"), \"./Output\")"
   ]
  },
  {
   "cell_type": "code",
   "execution_count": null,
   "metadata": {},
   "outputs": [],
   "source": [
    "from process_GBIF import process_GBIF\n",
    "import os\n",
    "\n",
    "process_GBIF(os.path.join(\"./Input\", \"GBIF.zip\"), \"./Output\")"
   ]
  },
  {
   "cell_type": "code",
   "execution_count": null,
   "metadata": {},
   "outputs": [],
   "source": [
    "from process_ML import process_ML\n",
    "import os\n",
    "\n",
    "process_ML(\n",
    "    [\n",
    "        os.path.join(\"./Input\", \"ML_snegl.csv\"),\n",
    "        os.path.join(\"./Input\", \"ML_fugl.csv\"),\n",
    "        os.path.join(\"./Input\", \"ML_lepi.csv\"),\n",
    "        os.path.join(\"./Input\", \"ML_meitemark.csv\"),\n",
    "        os.path.join(\"./Input\", \"ML_fremmed.csv\"),\n",
    "\n",
    "    ],\n",
    "    \"./Output\")"
   ]
  },
  {
   "cell_type": "code",
   "execution_count": null,
   "metadata": {},
   "outputs": [],
   "source": [
    "from process_SUPP import process_supp\n",
    "import os\n",
    "\n",
    "process_supp(\n",
    "    [\n",
    "        os.path.join(\"./Input\", \"lichens_bold.csv\"),\n",
    "    ],\n",
    "    \"./Output\",\n",
    "    \"Lichens\"\n",
    "    )"
   ]
  },
  {
   "cell_type": "code",
   "execution_count": 2,
   "metadata": {},
   "outputs": [
    {
     "name": "stderr",
     "output_type": "stream",
     "text": [
      "100%|██████████| 6804/6804 [00:00<00:00, 19482.34it/s]\n",
      "100%|██████████| 6804/6804 [00:00<00:00, 21174.68it/s]\n",
      "100%|██████████| 141/141 [00:00<00:00, 8040.75it/s]\n",
      "100%|██████████| 6804/6804 [00:00<00:00, 442525.77it/s]\n"
     ]
    }
   ],
   "source": [
    "from process_SUPP import process_supp\n",
    "import os\n",
    "\n",
    "process_supp(\n",
    "    [\n",
    "        os.path.join(\"./Input\", \"Fiskebilder.csv\"),\n",
    "    ],\n",
    "    \"./Output\",\n",
    "    \"Fish\",\n",
    "    checkfolder=\"/path/to/folder/with/img/files\"\n",
    "    )"
   ]
  },
  {
   "cell_type": "code",
   "execution_count": 3,
   "metadata": {},
   "outputs": [
    {
     "name": "stderr",
     "output_type": "stream",
     "text": [
      "100%|██████████| 131/131 [00:00<00:00, 14859.34it/s]\n",
      "100%|██████████| 131/131 [00:00<00:00, 16028.41it/s]\n",
      "100%|██████████| 4/4 [00:00<00:00, 2337.96it/s]\n",
      "100%|██████████| 131/131 [00:00<00:00, 315596.68it/s]\n"
     ]
    }
   ],
   "source": [
    "from process_SUPP import process_supp\n",
    "import os\n",
    "\n",
    "process_supp(\n",
    "    [\n",
    "        os.path.join(\"./Input\", \"Slugs.csv\"),\n",
    "    ],\n",
    "    \"./Output\",\n",
    "    \"Slugs\"\n",
    "    )"
   ]
  },
  {
   "cell_type": "code",
   "execution_count": 4,
   "metadata": {},
   "outputs": [
    {
     "name": "stdout",
     "output_type": "stream",
     "text": [
      "22723 taxa\n"
     ]
    },
    {
     "name": "stderr",
     "output_type": "stream",
     "text": [
      "100%|██████████| 1702829/1702829 [00:20<00:00, 81273.38it/s]\n"
     ]
    },
    {
     "name": "stdout",
     "output_type": "stream",
     "text": [
      "1702829 images\n",
      "1702829 image id's\n",
      "Taxon names occurring more than once in taxa:\n",
      "                      Count\n",
      "taxon_full_name            \n",
      "Achillea millefolium      2\n",
      "Lobelia erinus            2\n",
      "Taxon names in images but not in taxa: []\n"
     ]
    }
   ],
   "source": [
    "from combine import combine\n",
    "import os\n",
    "\n",
    "combine(\n",
    "    [\n",
    "        os.path.join(\"./Output\", \"AO_taxa.csv\"),\n",
    "        os.path.join(\"./Output\", \"GBIF_taxa.csv\"),\n",
    "        os.path.join(\"./Output\", \"ML_taxa.csv\"),\n",
    "        os.path.join(\"./Output\", \"Lichens_taxa.csv\"),\n",
    "        os.path.join(\"./Output\", \"Fish_taxa.csv\"),\n",
    "        os.path.join(\"./Output\", \"Slugs_taxa.csv\"),\n",
    "    ],\n",
    "    [\n",
    "        os.path.join(\"./Output\", \"AO_images.csv\"),\n",
    "        os.path.join(\"./Output\", \"GBIF_images.csv\"),\n",
    "        os.path.join(\"./Output\", \"ML_images.csv\"),\n",
    "        os.path.join(\"./Output\", \"Lichens_images.csv\"),\n",
    "        os.path.join(\"./Output\", \"Fish_images.csv\"),\n",
    "        os.path.join(\"./Output\", \"Slugs_images.csv\"),\n",
    "    ],\n",
    "    outputfolder=\"./Output\",\n",
    "    previousImageList=\".Input/previous_images.csv\"\n",
    "    )\n",
    "\n",
    "\n",
    "\n",
    "from extensions import filter_extensions\n",
    "\n",
    "filter_extensions(os.path.join(\"./Output\", \"images.csv\"), [\"png\", \"jpeg\", \"jpg\"])"
   ]
  },
  {
   "cell_type": "code",
   "execution_count": 5,
   "metadata": {},
   "outputs": [
    {
     "name": "stderr",
     "output_type": "stream",
     "text": [
      "/tmp/ipykernel_9296/145595103.py:8: DtypeWarning: Columns (8,10) have mixed types. Specify dtype option on import or set low_memory=False.\n",
      "  df = pd.read_csv(os.path.join(\"./Output\", \"images.csv\"))\n",
      "100%|██████████| 1702829/1702829 [00:01<00:00, 1562923.91it/s]\n"
     ]
    },
    {
     "name": "stdout",
     "output_type": "stream",
     "text": [
      "1702829 images\n",
      "22721 taxa\n"
     ]
    }
   ],
   "source": [
    "import pandas as pd\n",
    "from tqdm import tqdm\n",
    "\n",
    "tqdm.pandas()\n",
    "\n",
    "# There are some taxa that have multiple \"valid\" entries. Replace those with the correct ones\n",
    "\n",
    "df = pd.read_csv(os.path.join(\"./Output\", \"images.csv\"))\n",
    "df[\"accepted_taxon_id_at_source\"] = df[\"accepted_taxon_id_at_source\"].progress_apply(lambda x: \"NBIC:100959\" if x == \"NBIC:217764\" else (\"NBIC:100392\" if x == \"NBIC:162803\" else x))\n",
    "df[\"taxon_id_at_source\"] = df[\"accepted_taxon_id_at_source\"]\n",
    "print(f\"{len(df)} images\")\n",
    "df.to_csv(os.path.join(\"./Output\", \"images.csv\"), index=False)\n",
    "\n",
    "df = pd.read_csv(os.path.join(\"./Output\", \"taxa.csv\"))\n",
    "df = df[(df[\"accepted_taxon_id_at_source\"] != \"NBIC:217764\") & (df[\"accepted_taxon_id_at_source\"] != \"NBIC:162803\")]\n",
    "print(f\"{len(df)} taxa\")\n",
    "df.to_csv(os.path.join(\"./Output\", \"taxa.csv\"), index=False)"
   ]
  }
 ],
 "metadata": {
  "kernelspec": {
   "display_name": "Python 3",
   "language": "python",
   "name": "python3"
  },
  "language_info": {
   "codemirror_mode": {
    "name": "ipython",
    "version": 3
   },
   "file_extension": ".py",
   "mimetype": "text/x-python",
   "name": "python",
   "nbconvert_exporter": "python",
   "pygments_lexer": "ipython3",
   "version": "3.9.7"
  }
 },
 "nbformat": 4,
 "nbformat_minor": 0
}
